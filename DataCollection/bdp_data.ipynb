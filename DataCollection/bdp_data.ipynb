{
 "cells": [
  {
   "cell_type": "code",
   "execution_count": 18,
   "metadata": {},
   "outputs": [],
   "source": [
    "import pandas as pd\n",
    "data1 = pd.read_csv('./data_BDP/201801.csv')\n",
    "data2 = pd.read_csv('./data_BDP/201802.csv')\n",
    "data3 = pd.read_csv('./data_BDP/201803.csv')\n",
    "data4 = pd.read_csv('./data_BDP/201804.csv')\n",
    "data5 = pd.read_csv('./data_BDP/201805.csv')\n",
    "data6 = pd.read_csv('./data_BDP/201806.csv')\n",
    "data7 = pd.read_csv('./data_BDP/201807.csv')\n",
    "data8 = pd.read_csv('./data_BDP/201808.csv')\n",
    "data9 = pd.read_csv('./data_BDP/201809.csv')\n",
    "data10 = pd.read_csv('./data_BDP/201810.csv')\n",
    "data11 = pd.read_csv('./data_BDP/201811.csv')\n",
    "data12 = pd.read_csv('./data_BDP/201812.csv')"
   ]
  },
  {
   "cell_type": "code",
   "execution_count": 19,
   "metadata": {},
   "outputs": [],
   "source": [
    "df = pd.concat([data1, data2, data3, data4, data5, data6, data7, data8, data9, data10, data11, data12], ignore_index=True)"
   ]
  },
  {
   "cell_type": "code",
   "execution_count": 20,
   "metadata": {},
   "outputs": [],
   "source": [
    "df['일자']= df['일자'].astype('str')\n",
    "df['일자']= pd.to_datetime(df['일자'])"
   ]
  },
  {
   "cell_type": "code",
   "execution_count": 21,
   "metadata": {},
   "outputs": [
    {
     "name": "stdout",
     "output_type": "stream",
     "text": [
      "<class 'pandas.core.frame.DataFrame'>\n",
      "RangeIndex: 163534 entries, 0 to 163533\n",
      "Data columns (total 19 columns):\n",
      " #   Column             Non-Null Count   Dtype         \n",
      "---  ------             --------------   -----         \n",
      " 0   뉴스 식별자             163534 non-null  float64       \n",
      " 1   일자                 163534 non-null  datetime64[ns]\n",
      " 2   언론사                163534 non-null  object        \n",
      " 3   기고자                150510 non-null  object        \n",
      " 4   제목                 163534 non-null  object        \n",
      " 5   통합 분류1             163534 non-null  object        \n",
      " 6   통합 분류2             133012 non-null  object        \n",
      " 7   통합 분류3             94504 non-null   object        \n",
      " 8   사건/사고 분류1          163534 non-null  object        \n",
      " 9   사건/사고 분류2          59275 non-null   object        \n",
      " 10  사건/사고 분류3          18600 non-null   object        \n",
      " 11  인물                 130725 non-null  object        \n",
      " 12  위치                 135857 non-null  object        \n",
      " 13  기관                 160851 non-null  object        \n",
      " 14  키워드                163533 non-null  object        \n",
      " 15  특성추출(가중치순 상위 50개)  163534 non-null  object        \n",
      " 16  본문                 163534 non-null  object        \n",
      " 17  URL                155426 non-null  object        \n",
      " 18  분석제외 여부            9865 non-null    object        \n",
      "dtypes: datetime64[ns](1), float64(1), object(17)\n",
      "memory usage: 23.7+ MB\n"
     ]
    }
   ],
   "source": [
    "df.info()"
   ]
  },
  {
   "cell_type": "code",
   "execution_count": 22,
   "metadata": {},
   "outputs": [],
   "source": [
    "df = df.sort_values(by='일자')\n",
    "df = df.reset_index()\n",
    "df = df[['뉴스 식별자', '일자', '제목', '키워드']]"
   ]
  },
  {
   "cell_type": "code",
   "execution_count": 23,
   "metadata": {},
   "outputs": [],
   "source": [
    "df.to_csv('./data_BDP/data_2018.csv') "
   ]
  },
  {
   "cell_type": "code",
   "execution_count": 24,
   "metadata": {},
   "outputs": [
    {
     "data": {
      "text/html": [
       "<div>\n",
       "<style scoped>\n",
       "    .dataframe tbody tr th:only-of-type {\n",
       "        vertical-align: middle;\n",
       "    }\n",
       "\n",
       "    .dataframe tbody tr th {\n",
       "        vertical-align: top;\n",
       "    }\n",
       "\n",
       "    .dataframe thead th {\n",
       "        text-align: right;\n",
       "    }\n",
       "</style>\n",
       "<table border=\"1\" class=\"dataframe\">\n",
       "  <thead>\n",
       "    <tr style=\"text-align: right;\">\n",
       "      <th></th>\n",
       "      <th>뉴스 식별자</th>\n",
       "      <th>일자</th>\n",
       "      <th>제목</th>\n",
       "      <th>키워드</th>\n",
       "    </tr>\n",
       "  </thead>\n",
       "  <tbody>\n",
       "    <tr>\n",
       "      <th>0</th>\n",
       "      <td>2.100201e+06</td>\n",
       "      <td>2018-01-01</td>\n",
       "      <td>여승객 하차요구 무시해 감금 기소된 택시기사 '무죄' 왜</td>\n",
       "      <td>무시,여승객,하차,요구,감금,기소,택시,기사,이균진,승객,하차,요구,무시,목적지,감...</td>\n",
       "    </tr>\n",
       "    <tr>\n",
       "      <th>1</th>\n",
       "      <td>2.100311e+06</td>\n",
       "      <td>2018-01-01</td>\n",
       "      <td>美 무차별 특허공세...'한국 반도체 길들이기' 나서나</td>\n",
       "      <td>특허공세,특허,공세,한국,반도체,반도체,특허,삼성,SK,관세법,위반,업체,미국,반도...</td>\n",
       "    </tr>\n",
       "    <tr>\n",
       "      <th>2</th>\n",
       "      <td>2.100311e+06</td>\n",
       "      <td>2018-01-01</td>\n",
       "      <td>이채원 한국밸류운용 신임 대표 “\"금리인상으로 가치주 시대 다시 열릴 것\"”</td>\n",
       "      <td>금리인상,이채원,한국밸류운용,신임,대표,금리,인상,가치주,시대,대형,성장,강세,코스...</td>\n",
       "    </tr>\n",
       "  </tbody>\n",
       "</table>\n",
       "</div>"
      ],
      "text/plain": [
       "         뉴스 식별자         일자                                          제목  \\\n",
       "0  2.100201e+06 2018-01-01             여승객 하차요구 무시해 감금 기소된 택시기사 '무죄' 왜   \n",
       "1  2.100311e+06 2018-01-01              美 무차별 특허공세...'한국 반도체 길들이기' 나서나   \n",
       "2  2.100311e+06 2018-01-01  이채원 한국밸류운용 신임 대표 “\"금리인상으로 가치주 시대 다시 열릴 것\"”   \n",
       "\n",
       "                                                 키워드  \n",
       "0  무시,여승객,하차,요구,감금,기소,택시,기사,이균진,승객,하차,요구,무시,목적지,감...  \n",
       "1  특허공세,특허,공세,한국,반도체,반도체,특허,삼성,SK,관세법,위반,업체,미국,반도...  \n",
       "2  금리인상,이채원,한국밸류운용,신임,대표,금리,인상,가치주,시대,대형,성장,강세,코스...  "
      ]
     },
     "execution_count": 24,
     "metadata": {},
     "output_type": "execute_result"
    }
   ],
   "source": [
    "df.head(3)"
   ]
  }
 ],
 "metadata": {
  "kernelspec": {
   "display_name": "Python 3",
   "language": "python",
   "name": "python3"
  }
 },
 "nbformat": 4,
 "nbformat_minor": 4
}
