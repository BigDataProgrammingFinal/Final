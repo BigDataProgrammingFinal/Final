{
 "cells": [
  {
   "cell_type": "code",
   "execution_count": 3,
   "metadata": {},
   "outputs": [
    {
     "name": "stderr",
     "output_type": "stream",
     "text": [
      "<ipython-input-3-4e6163947877>:9: DeprecationWarning: executable_path has been deprecated, please pass in a Service object\n",
      "  driver = webdriver.Chrome(driver_file)\n"
     ]
    }
   ],
   "source": [
    "import time\n",
    "import csv\n",
    "\n",
    "from bs4 import BeautifulSoup\n",
    "from selenium import webdriver\n",
    "from selenium.webdriver.common.by import By\n",
    "\n",
    "driver_file = 'C:/Users/leejihui/chromedriver'\n",
    "driver = webdriver.Chrome(driver_file)\n",
    "driver.implicitly_wait(10)\n",
    "url = 'https://www.bigkinds.or.kr/v2/news/search.do'\n",
    "driver.get(url)\n",
    "driver.find_element(By.ID, \"collapse-step-1\").click()\n",
    "driver.implicitly_wait(1)\n",
    "driver.find_element(By.CSS_SELECTOR, 'a[href=\"#srch-tab4\"]').click()\n",
    "driver.implicitly_wait(1)\n",
    "driver.find_element(By.CSS_SELECTOR, 'li[data-id=\"1\"] label').click()\n",
    "driver.implicitly_wait(1)\n",
    "driver.find_element(By.CSS_SELECTOR, 'div[class=\"foot-btn\"] > button:last-child').click()\n",
    "driver.implicitly_wait(1)\n",
    "driver.find_element(By.CSS_SELECTOR, '#select2').click()\n",
    "driver.implicitly_wait(1)\n",
    "driver.find_element(By.CSS_SELECTOR, '#select2 > option:nth-child(4)').click()\n",
    "driver.implicitly_wait(10)\n",
    "time.sleep(3)\n",
    "\n",
    "f = open('newsdata.csv', 'w', encoding='utf-8', newline='')\n",
    "wr = csv.writer(f)\n",
    "\n",
    "for j in range(10):\n",
    "\n",
    "    driver.implicitly_wait(10)\n",
    "    html = driver.page_source\n",
    "    soup = BeautifulSoup(html, 'html.parser')\n",
    "    driver.implicitly_wait(1)\n",
    "    driver.find_element(By.CSS_SELECTOR, '.page-next:nth-of-type(1)').click()\n",
    "    driver.implicitly_wait(10)\n",
    "    time.sleep(2)\n",
    "\n",
    "    newsId = []\n",
    "    newsTitle = []\n",
    "    newsDate = []\n",
    "    newsContent = []\n",
    "\n",
    "    texts = soup.select('.news-detail p')\n",
    "    for i in texts:\n",
    "        newsId.append(i['data-newsid'])\n",
    "        newsContent.append(i.text.strip())\n",
    "        #print(i['data-newsid'])\n",
    "        #print(i.text.strip())\n",
    "    titles = soup.select('.title-elipsis')\n",
    "    for i in titles:\n",
    "        newsTitle.append(i.text.strip())\n",
    "        #print(i.text.strip())\n",
    "    dates = soup.select('.info p:nth-of-type(1)')\n",
    "    for i in dates:\n",
    "        newsDate.append(i.text.strip())\n",
    "        #print(i.text.strip())\n",
    "\n",
    "    for k in range(len(newsId)):\n",
    "        temp = [newsId[k], newsTitle[k], newsDate[k], newsContent[k]]\n",
    "        wr.writerow(temp)"
   ]
  },
  {
   "cell_type": "code",
   "execution_count": null,
   "metadata": {},
   "outputs": [],
   "source": []
  },
  {
   "cell_type": "code",
   "execution_count": null,
   "metadata": {},
   "outputs": [],
   "source": []
  },
  {
   "cell_type": "code",
   "execution_count": null,
   "metadata": {},
   "outputs": [],
   "source": []
  },
  {
   "cell_type": "code",
   "execution_count": null,
   "metadata": {},
   "outputs": [],
   "source": []
  },
  {
   "cell_type": "code",
   "execution_count": null,
   "metadata": {},
   "outputs": [],
   "source": []
  },
  {
   "cell_type": "code",
   "execution_count": null,
   "metadata": {},
   "outputs": [],
   "source": []
  },
  {
   "cell_type": "code",
   "execution_count": null,
   "metadata": {},
   "outputs": [],
   "source": []
  }
 ],
 "metadata": {
  "kernelspec": {
   "display_name": "Python 3",
   "language": "python",
   "name": "python3"
  },
  "language_info": {
   "codemirror_mode": {
    "name": "ipython",
    "version": 3
   },
   "file_extension": ".py",
   "mimetype": "text/x-python",
   "name": "python",
   "nbconvert_exporter": "python",
   "pygments_lexer": "ipython3",
   "version": "3.8.5"
  }
 },
 "nbformat": 4,
 "nbformat_minor": 4
}
