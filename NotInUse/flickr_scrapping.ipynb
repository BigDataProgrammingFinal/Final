{
 "cells": [
  {
   "cell_type": "code",
   "execution_count": 1,
   "id": "1a59e1a2",
   "metadata": {},
   "outputs": [
    {
     "name": "stdout",
     "output_type": "stream",
     "text": [
      "Collecting exif\n",
      "  Downloading exif-1.3.5-py3-none-any.whl (29 kB)\n",
      "Collecting plum-py<2.0.0,>=0.5.0\n",
      "  Downloading plum_py-0.8.5-py3-none-any.whl (93 kB)\n",
      "\u001b[K     |████████████████████████████████| 93 kB 2.0 MB/s eta 0:00:01\n",
      "\u001b[?25hInstalling collected packages: plum-py, exif\n",
      "Successfully installed exif-1.3.5 plum-py-0.8.5\n"
     ]
    }
   ],
   "source": [
    "!pip install exif"
   ]
  },
  {
   "cell_type": "code",
   "execution_count": 16,
   "id": "8ec94e48",
   "metadata": {},
   "outputs": [
    {
     "name": "stdout",
     "output_type": "stream",
     "text": [
      "/Users/munseunghyeon/Documents/flickr/서울 _ egg (Hong, Yun Seon) _ Flickr.mht <exif._image.Image object at 0x7f7d299d4460>\n"
     ]
    }
   ],
   "source": [
    "# exif 라이브러리 사용\n",
    "\n",
    "from exif import Image\n",
    "img_path = '/Users/munseunghyeon/Documents/flickr/서울 _ egg (Hong, Yun Seon) _ Flickr.mht'\n",
    "with open(img_path, 'rb') as src:\n",
    "    img = Image(src)\n",
    "    print (src.name, img)"
   ]
  },
  {
   "cell_type": "code",
   "execution_count": 11,
   "id": "d1474e5b",
   "metadata": {},
   "outputs": [
    {
     "ename": "FileNotFoundError",
     "evalue": "[Errno 2] No such file or directory: 'https://live.staticflickr.com/7626/17171381532_b90d2623b0_b.jpg'",
     "output_type": "error",
     "traceback": [
      "\u001b[0;31m---------------------------------------------------------------------------\u001b[0m",
      "\u001b[0;31mFileNotFoundError\u001b[0m                         Traceback (most recent call last)",
      "Input \u001b[0;32mIn [11]\u001b[0m, in \u001b[0;36m<cell line: 1>\u001b[0;34m()\u001b[0m\n\u001b[0;32m----> 1\u001b[0m \u001b[38;5;28;01mwith\u001b[39;00m \u001b[38;5;28;43mopen\u001b[39;49m\u001b[43m(\u001b[49m\u001b[38;5;124;43m'\u001b[39;49m\u001b[38;5;124;43mhttps://live.staticflickr.com/7626/17171381532_b90d2623b0_b.jpg\u001b[39;49m\u001b[38;5;124;43m'\u001b[39;49m\u001b[43m)\u001b[49m \u001b[38;5;28;01mas\u001b[39;00m src:\n\u001b[1;32m      2\u001b[0m  img \u001b[38;5;241m=\u001b[39m Image(src)\n\u001b[1;32m      3\u001b[0m  \u001b[38;5;28;01mif\u001b[39;00m img\u001b[38;5;241m.\u001b[39mhas_exif:\n",
      "\u001b[0;31mFileNotFoundError\u001b[0m: [Errno 2] No such file or directory: 'https://live.staticflickr.com/7626/17171381532_b90d2623b0_b.jpg'"
     ]
    }
   ],
   "source": [
    "# flickr에서 다른이름으로 저장하기 하는 방식으로, exif 데이터를 조회할 수 있나? 확인\n",
    "\n",
    "with open('/Users/munseunghyeon/Documents/flickr/Seoul _ Seoul _ jscphotos _ Flickr.html') as src:\n",
    " img = Image(src)\n",
    " if img.has_exif:\n",
    "    info = f\" has the EXIF {img.exif_version}\"\n",
    " else:\n",
    "    info = \"does not contain any EXIF information\"\n",
    " print(f\"Image {src.name}: {info}\")"
   ]
  },
  {
   "cell_type": "code",
   "execution_count": 10,
   "id": "8c236bee",
   "metadata": {},
   "outputs": [
    {
     "ename": "KeyError",
     "evalue": "'APP1'",
     "output_type": "error",
     "traceback": [
      "\u001b[0;31m---------------------------------------------------------------------------\u001b[0m",
      "\u001b[0;31mKeyError\u001b[0m                                  Traceback (most recent call last)",
      "Input \u001b[0;32mIn [10]\u001b[0m, in \u001b[0;36m<cell line: 1>\u001b[0;34m()\u001b[0m\n\u001b[0;32m----> 1\u001b[0m \u001b[43mimg\u001b[49m\u001b[38;5;241;43m.\u001b[39;49m\u001b[43mgps_longitude\u001b[49m\n",
      "File \u001b[0;32m~/opt/anaconda3/lib/python3.9/site-packages/exif/_image.py:104\u001b[0m, in \u001b[0;36mImage.__getattr__\u001b[0;34m(self, item)\u001b[0m\n\u001b[1;32m    103\u001b[0m \u001b[38;5;28;01mdef\u001b[39;00m \u001b[38;5;21m__getattr__\u001b[39m(\u001b[38;5;28mself\u001b[39m, item):\n\u001b[0;32m--> 104\u001b[0m     \u001b[38;5;28;01mreturn\u001b[39;00m \u001b[38;5;28mgetattr\u001b[39m(\u001b[38;5;28;43mself\u001b[39;49m\u001b[38;5;241;43m.\u001b[39;49m\u001b[43m_segments\u001b[49m\u001b[43m[\u001b[49m\u001b[38;5;124;43m\"\u001b[39;49m\u001b[38;5;124;43mAPP1\u001b[39;49m\u001b[38;5;124;43m\"\u001b[39;49m\u001b[43m]\u001b[49m, item)\n",
      "\u001b[0;31mKeyError\u001b[0m: 'APP1'"
     ]
    }
   ],
   "source": [
    "# 기본적으로 exif 객체가 gps_longitude 데이터가 있다면 아래의 방식으로 조회할 수 있음.\n",
    "# 아래의 객체는 가지고 있지 않은 정보라 오류\n",
    "img.gps_longitude"
   ]
  },
  {
   "cell_type": "code",
   "execution_count": 25,
   "id": "e34f4b24",
   "metadata": {},
   "outputs": [],
   "source": [
    "# urllib 라이브러리로 사진을 불러와 test.jpg라는 임시 파일을 만들고 해당 파일로 exif 데이터를 가져올 수 있나 확인.\n",
    "# 역시나 불가능\n",
    "import urllib.request\n",
    "URL = 'https://live.staticflickr.com/65535/52507414301_734e03c15f_h.jpg'\n",
    "\n",
    "URL\n",
    "\n",
    "savename = 'test.jpg'\n",
    "\n",
    "mem = urllib.request.urlopen(URL).read()\n",
    "\n",
    "with open(savename, mode = 'wb') as f :\n",
    "    f.write(mem)\n",
    "    \n",
    "    \n",
    "img_path = 'test.jpg'\n",
    "with open(img_path, 'rb') as src:\n",
    "    img = Image(src)\n",
    "    print (src.name, img)\n",
    "\n",
    "img"
   ]
  },
  {
   "cell_type": "code",
   "execution_count": null,
   "id": "cb4145d6",
   "metadata": {},
   "outputs": [],
   "source": []
  },
  {
   "cell_type": "code",
   "execution_count": null,
   "id": "9a964541",
   "metadata": {},
   "outputs": [],
   "source": []
  },
  {
   "cell_type": "code",
   "execution_count": 35,
   "id": "8458482b",
   "metadata": {},
   "outputs": [
    {
     "name": "stdout",
     "output_type": "stream",
     "text": [
      "test.jpg <exif._image.Image object at 0x7f7d29e336d0>\n"
     ]
    }
   ],
   "source": [
    "print (src.name, img)"
   ]
  },
  {
   "cell_type": "code",
   "execution_count": null,
   "id": "9ec3e285",
   "metadata": {},
   "outputs": [],
   "source": [
    "# 아래부터는 flickrapi 라는 flickr 공식 api를 사용해보고자 한다.\n",
    "# 사전에 발급받은 key와 비밀번호를 이용한다."
   ]
  },
  {
   "cell_type": "code",
   "execution_count": 86,
   "id": "b9249bce",
   "metadata": {},
   "outputs": [
    {
     "name": "stdout",
     "output_type": "stream",
     "text": [
      "Collecting flickrapi\n",
      "  Downloading flickrapi-2.4.0-py2.py3-none-any.whl (26 kB)\n",
      "Requirement already satisfied: six>=1.5.2 in ./opt/anaconda3/lib/python3.9/site-packages (from flickrapi) (1.16.0)\n",
      "Requirement already satisfied: requests-oauthlib>=0.4.0 in ./opt/anaconda3/lib/python3.9/site-packages (from flickrapi) (1.3.1)\n",
      "Requirement already satisfied: requests>=2.2.1 in ./opt/anaconda3/lib/python3.9/site-packages (from flickrapi) (2.27.1)\n",
      "Collecting requests-toolbelt>=0.3.1\n",
      "  Downloading requests_toolbelt-0.10.1-py2.py3-none-any.whl (54 kB)\n",
      "\u001b[K     |████████████████████████████████| 54 kB 4.2 MB/s eta 0:00:01\n",
      "\u001b[?25hRequirement already satisfied: certifi>=2017.4.17 in ./opt/anaconda3/lib/python3.9/site-packages (from requests>=2.2.1->flickrapi) (2021.10.8)\n",
      "Requirement already satisfied: urllib3<1.27,>=1.21.1 in ./opt/anaconda3/lib/python3.9/site-packages (from requests>=2.2.1->flickrapi) (1.26.9)\n",
      "Requirement already satisfied: idna<4,>=2.5 in ./opt/anaconda3/lib/python3.9/site-packages (from requests>=2.2.1->flickrapi) (3.3)\n",
      "Requirement already satisfied: charset-normalizer~=2.0.0 in ./opt/anaconda3/lib/python3.9/site-packages (from requests>=2.2.1->flickrapi) (2.0.4)\n",
      "Requirement already satisfied: oauthlib>=3.0.0 in ./opt/anaconda3/lib/python3.9/site-packages (from requests-oauthlib>=0.4.0->flickrapi) (3.2.0)\n",
      "Installing collected packages: requests-toolbelt, flickrapi\n",
      "Successfully installed flickrapi-2.4.0 requests-toolbelt-0.10.1\n"
     ]
    }
   ],
   "source": [
    "!pip install flickrapi"
   ]
  },
  {
   "cell_type": "code",
   "execution_count": 30,
   "id": "45d5ec9e",
   "metadata": {},
   "outputs": [],
   "source": [
    "# flickr 라는 변수 이름으로 FlickrAPI 객체 생성\n",
    "# 키워드로 검색할 수 있는 search 메소드 이용\n",
    "import flickrapi\n",
    "\n",
    "api_key = u''\n",
    "api_secret = u''\n",
    "flickr = flickrapi.FlickrAPI(api_key, api_secret)\n",
    "\n",
    "photos = flickr.photos.search(user_id='73509078@N00', per_page='10', format='json')"
   ]
  },
  {
   "cell_type": "code",
   "execution_count": 6,
   "id": "f0cf5cea",
   "metadata": {},
   "outputs": [
    {
     "data": {
      "text/plain": [
       "b'{\"photos\":{\"page\":1,\"pages\":110,\"perpage\":10,\"total\":1093,\"photo\":[{\"id\":\"36289148974\",\"owner\":\"73509078@N00\",\"secret\":\"006ff43817\",\"server\":\"4430\",\"farm\":5,\"title\":\"Flora\",\"ispublic\":1,\"isfriend\":0,\"isfamily\":0},{\"id\":\"34546170756\",\"owner\":\"73509078@N00\",\"secret\":\"69a142cfb6\",\"server\":\"4193\",\"farm\":5,\"title\":\"Dominic\",\"ispublic\":1,\"isfriend\":0,\"isfamily\":0},{\"id\":\"33691553184\",\"owner\":\"73509078@N00\",\"secret\":\"5bf62b625c\",\"server\":\"4189\",\"farm\":5,\"title\":\"Dominic\",\"ispublic\":1,\"isfriend\":0,\"isfamily\":0},{\"id\":\"34145609520\",\"owner\":\"73509078@N00\",\"secret\":\"7b343cc044\",\"server\":\"4194\",\"farm\":5,\"title\":\"Carolyn\",\"ispublic\":1,\"isfriend\":0,\"isfamily\":0},{\"id\":\"32722278464\",\"owner\":\"73509078@N00\",\"secret\":\"a7e6a64992\",\"server\":\"2807\",\"farm\":3,\"title\":\"Nacho\",\"ispublic\":1,\"isfriend\":0,\"isfamily\":0},{\"id\":\"33368945702\",\"owner\":\"73509078@N00\",\"secret\":\"8ebb8bec65\",\"server\":\"3700\",\"farm\":4,\"title\":\"Dalai\",\"ispublic\":1,\"isfriend\":0,\"isfamily\":0},{\"id\":\"33079429120\",\"owner\":\"73509078@N00\",\"secret\":\"d0c4840243\",\"server\":\"3717\",\"farm\":4,\"title\":\"Kjartan\",\"ispublic\":1,\"isfriend\":0,\"isfamily\":0},{\"id\":\"33079427500\",\"owner\":\"73509078@N00\",\"secret\":\"59c5258498\",\"server\":\"3806\",\"farm\":4,\"title\":\"Julien\",\"ispublic\":1,\"isfriend\":0,\"isfamily\":0},{\"id\":\"30014555241\",\"owner\":\"73509078@N00\",\"secret\":\"cc74e7f525\",\"server\":\"5631\",\"farm\":6,\"title\":\"En Route 7\",\"ispublic\":1,\"isfriend\":0,\"isfamily\":0},{\"id\":\"30014553171\",\"owner\":\"73509078@N00\",\"secret\":\"d0053abfbc\",\"server\":\"5339\",\"farm\":6,\"title\":\"En Route 6\",\"ispublic\":1,\"isfriend\":0,\"isfamily\":0}]},\"stat\":\"ok\"}'"
      ]
     },
     "execution_count": 6,
     "metadata": {},
     "output_type": "execute_result"
    }
   ],
   "source": [
    "photos"
   ]
  },
  {
   "cell_type": "code",
   "execution_count": 7,
   "id": "4af0dd93",
   "metadata": {},
   "outputs": [],
   "source": [
    "# userid를 기준으로 작성한 같은 유저가 업로드한 photosets 가져오기\n",
    "sets = flickr.photosets.getList(user_id='73509078@N00')"
   ]
  },
  {
   "cell_type": "code",
   "execution_count": null,
   "id": "72e26084",
   "metadata": {},
   "outputs": [],
   "source": []
  },
  {
   "cell_type": "code",
   "execution_count": 31,
   "id": "7912cbdc",
   "metadata": {},
   "outputs": [],
   "source": [
    "# photosets\n",
    "raw_json = flickr.photosets.getList(user_id='yui_3_16_0_1_1669286492043_6560', format='json')\n",
    "import json\n",
    "parsed = json.loads(raw_json.decode('utf-8'))"
   ]
  },
  {
   "cell_type": "code",
   "execution_count": 33,
   "id": "c1018da5",
   "metadata": {},
   "outputs": [
    {
     "data": {
      "text/plain": [
       "{'stat': 'fail', 'code': 1, 'message': 'User not found'}"
      ]
     },
     "execution_count": 33,
     "metadata": {},
     "output_type": "execute_result"
    }
   ],
   "source": [
    "parsed"
   ]
  },
  {
   "cell_type": "code",
   "execution_count": 115,
   "id": "70d20297",
   "metadata": {},
   "outputs": [
    {
     "data": {
      "text/plain": [
       "{'id': '72157674639812906',\n",
       " 'owner': '73509078@N00',\n",
       " 'username': 'Sybren A. Stüvel',\n",
       " 'primary': '30014551651',\n",
       " 'secret': 'cfdd173178',\n",
       " 'server': '8742',\n",
       " 'farm': 9,\n",
       " 'count_views': '53',\n",
       " 'count_comments': '0',\n",
       " 'count_photos': 7,\n",
       " 'count_videos': 0,\n",
       " 'title': {'_content': 'En Route'},\n",
       " 'description': {'_content': 'Photos I take en route to work.'},\n",
       " 'can_comment': 0,\n",
       " 'date_create': '1475529863',\n",
       " 'date_update': '1475530523',\n",
       " 'photos': 7,\n",
       " 'videos': 0,\n",
       " 'visibility_can_see_set': 1,\n",
       " 'needs_interstitial': 0}"
      ]
     },
     "execution_count": 115,
     "metadata": {},
     "output_type": "execute_result"
    }
   ],
   "source": [
    "parsed['photosets']['photoset'][0]"
   ]
  },
  {
   "cell_type": "code",
   "execution_count": null,
   "id": "e812c81a",
   "metadata": {},
   "outputs": [],
   "source": []
  },
  {
   "cell_type": "code",
   "execution_count": 164,
   "id": "7919050f",
   "metadata": {},
   "outputs": [],
   "source": [
    "example1 = flickr.photos.getExif(api_key = api_key, photo_id=\"30014551651\", secret = api_secret, format = 'json')\n",
    "parsed = json.loads(example1.decode('utf-8'))"
   ]
  },
  {
   "cell_type": "code",
   "execution_count": 165,
   "id": "f1d4b786",
   "metadata": {},
   "outputs": [
    {
     "data": {
      "text/plain": [
       "dict_keys(['photo', 'stat'])"
      ]
     },
     "execution_count": 165,
     "metadata": {},
     "output_type": "execute_result"
    }
   ],
   "source": [
    "parsed.keys()"
   ]
  },
  {
   "cell_type": "code",
   "execution_count": 166,
   "id": "7af25e90",
   "metadata": {},
   "outputs": [
    {
     "data": {
      "text/plain": [
       "{'photo': {'id': '30014551651',\n",
       "  'secret': 'cfdd173178',\n",
       "  'server': '8742',\n",
       "  'farm': 9,\n",
       "  'camera': '',\n",
       "  'exif': [{'tagspace': 'JFIF',\n",
       "    'tagspaceid': 0,\n",
       "    'tag': 'JFIFVersion',\n",
       "    'label': 'JFIFVersion',\n",
       "    'raw': {'_content': '1.02'}},\n",
       "   {'tagspace': 'JFIF',\n",
       "    'tagspaceid': 0,\n",
       "    'tag': 'ResolutionUnit',\n",
       "    'label': 'Resolution Unit',\n",
       "    'raw': {'_content': 'inches'}},\n",
       "   {'tagspace': 'JFIF',\n",
       "    'tagspaceid': 0,\n",
       "    'tag': 'XResolution',\n",
       "    'label': 'X-Resolution',\n",
       "    'raw': {'_content': '240'},\n",
       "    'clean': {'_content': '240 dpi'}},\n",
       "   {'tagspace': 'JFIF',\n",
       "    'tagspaceid': 0,\n",
       "    'tag': 'YResolution',\n",
       "    'label': 'Y-Resolution',\n",
       "    'raw': {'_content': '240'},\n",
       "    'clean': {'_content': '240 dpi'}},\n",
       "   {'tagspace': 'IFD0',\n",
       "    'tagspaceid': 0,\n",
       "    'tag': 'Compression',\n",
       "    'label': 'Compression',\n",
       "    'raw': {'_content': 'JPEG (old-style)'}},\n",
       "   {'tagspace': 'IFD0',\n",
       "    'tagspaceid': 0,\n",
       "    'tag': 'ResolutionUnit',\n",
       "    'label': 'Resolution Unit',\n",
       "    'raw': {'_content': 'inches'}},\n",
       "   {'tagspace': 'IFD0',\n",
       "    'tagspaceid': 0,\n",
       "    'tag': 'Software',\n",
       "    'label': 'Software',\n",
       "    'raw': {'_content': 'Adobe Photoshop Lightroom 6.1.1 (Windows)'}},\n",
       "   {'tagspace': 'IFD0',\n",
       "    'tagspaceid': 0,\n",
       "    'tag': 'ModifyDate',\n",
       "    'label': 'Date and Time (Modified)',\n",
       "    'raw': {'_content': '2016:10:03 23:21:45'}},\n",
       "   {'tagspace': 'IFD0',\n",
       "    'tagspaceid': 0,\n",
       "    'tag': 'Artist',\n",
       "    'label': 'Artist',\n",
       "    'raw': {'_content': 'Sybren A. Stüvel'}},\n",
       "   {'tagspace': 'IFD0',\n",
       "    'tagspaceid': 0,\n",
       "    'tag': 'YCbCrPositioning',\n",
       "    'label': 'YCbCr Positioning',\n",
       "    'raw': {'_content': 'Centered'}},\n",
       "   {'tagspace': 'IFD0',\n",
       "    'tagspaceid': 0,\n",
       "    'tag': 'Copyright',\n",
       "    'label': 'Copyright',\n",
       "    'raw': {'_content': 'Sybren A. Stüvel'}},\n",
       "   {'tagspace': 'ExifIFD',\n",
       "    'tagspaceid': 0,\n",
       "    'tag': 'ExifVersion',\n",
       "    'label': 'Exif Version',\n",
       "    'raw': {'_content': '0230'}},\n",
       "   {'tagspace': 'ExifIFD',\n",
       "    'tagspaceid': 0,\n",
       "    'tag': 'ComponentsConfiguration',\n",
       "    'label': 'Components Configuration',\n",
       "    'raw': {'_content': 'Y, Cb, Cr, -'}},\n",
       "   {'tagspace': 'ExifIFD',\n",
       "    'tagspaceid': 0,\n",
       "    'tag': 'FlashpixVersion',\n",
       "    'label': 'Flashpix Version',\n",
       "    'raw': {'_content': '0100'}},\n",
       "   {'tagspace': 'ExifIFD',\n",
       "    'tagspaceid': 0,\n",
       "    'tag': 'ColorSpace',\n",
       "    'label': 'Color Space',\n",
       "    'raw': {'_content': 'Uncalibrated'}},\n",
       "   {'tagspace': 'IPTC',\n",
       "    'tagspaceid': 0,\n",
       "    'tag': 'ApplicationRecordVersion',\n",
       "    'label': 'Application Record Version',\n",
       "    'raw': {'_content': '4'}},\n",
       "   {'tagspace': 'IPTC',\n",
       "    'tagspaceid': 0,\n",
       "    'tag': 'Keywords',\n",
       "    'label': 'Keywords',\n",
       "    'raw': {'_content': 'Black & White'},\n",
       "    'clean': {'_content': '\"Black & White\" \"Black and white\" \"EI 1600\" Kodak \"Kodak Tri-X 400\" Zeiss-Ikon \"Zeiss-Ikon Nettar\" analogue analoog film portrait \"zwart wit\"'}},\n",
       "   {'tagspace': 'IPTC',\n",
       "    'tagspaceid': 0,\n",
       "    'tag': 'By-line',\n",
       "    'label': 'By-line',\n",
       "    'raw': {'_content': 'Sybren A. Stüvel'}},\n",
       "   {'tagspace': 'IPTC',\n",
       "    'tagspaceid': 0,\n",
       "    'tag': 'CopyrightNotice',\n",
       "    'label': 'Copyright Notice',\n",
       "    'raw': {'_content': 'Sybren A. Stüvel'}},\n",
       "   {'tagspace': 'Photoshop',\n",
       "    'tagspaceid': 0,\n",
       "    'tag': 'URL',\n",
       "    'label': 'URL',\n",
       "    'raw': {'_content': 'http://stuvelfoto.nl/'}},\n",
       "   {'tagspace': 'XMP-x',\n",
       "    'tagspaceid': 0,\n",
       "    'tag': 'XMPToolkit',\n",
       "    'label': 'XMPToolkit',\n",
       "    'raw': {'_content': 'Image::ExifTool 8.84'}},\n",
       "   {'tagspace': 'XMP-iptcCore',\n",
       "    'tagspaceid': 0,\n",
       "    'tag': 'CreatorWorkURL',\n",
       "    'label': 'Creator Work URL',\n",
       "    'raw': {'_content': 'http://stuvelfoto.nl/'}},\n",
       "   {'tagspace': 'XMP-dc',\n",
       "    'tagspaceid': 0,\n",
       "    'tag': 'Creator',\n",
       "    'label': 'Creator',\n",
       "    'raw': {'_content': 'Sybren A. Stüvel'}},\n",
       "   {'tagspace': 'XMP-dc',\n",
       "    'tagspaceid': 0,\n",
       "    'tag': 'Format',\n",
       "    'label': 'Format',\n",
       "    'raw': {'_content': 'image/jpeg'}},\n",
       "   {'tagspace': 'XMP-dc',\n",
       "    'tagspaceid': 0,\n",
       "    'tag': 'Rights',\n",
       "    'label': 'Rights',\n",
       "    'raw': {'_content': 'Sybren A. Stüvel'}},\n",
       "   {'tagspace': 'XMP-dc',\n",
       "    'tagspaceid': 0,\n",
       "    'tag': 'Subject',\n",
       "    'label': 'Subject',\n",
       "    'raw': {'_content': 'Black & White'}},\n",
       "   {'tagspace': 'XMP-xmp',\n",
       "    'tagspaceid': 0,\n",
       "    'tag': 'CreatorTool',\n",
       "    'label': 'Creator Tool',\n",
       "    'raw': {'_content': 'Adobe Photoshop Lightroom 6.1.1 (Windows)'}},\n",
       "   {'tagspace': 'XMP-xmp',\n",
       "    'tagspaceid': 0,\n",
       "    'tag': 'MetadataDate',\n",
       "    'label': 'Metadata Date',\n",
       "    'raw': {'_content': '2016:10:03 23:21:45+02:00'}},\n",
       "   {'tagspace': 'XMP-xmpMM',\n",
       "    'tagspaceid': 0,\n",
       "    'tag': 'DerivedFromDocumentID',\n",
       "    'label': 'Derived From Document ID',\n",
       "    'raw': {'_content': '7768BA311BF0A19B057C70C400F51ABD'}},\n",
       "   {'tagspace': 'XMP-xmpMM',\n",
       "    'tagspaceid': 0,\n",
       "    'tag': 'DerivedFromOriginalDocumentID',\n",
       "    'label': 'Derived From Original Document ID',\n",
       "    'raw': {'_content': '7768BA311BF0A19B057C70C400F51ABD'}},\n",
       "   {'tagspace': 'XMP-xmpMM',\n",
       "    'tagspaceid': 0,\n",
       "    'tag': 'DocumentID',\n",
       "    'label': 'Document ID',\n",
       "    'raw': {'_content': 'xmp.did:16ee75bf-3cf3-3445-8690-cfe72c2b32c4'}},\n",
       "   {'tagspace': 'XMP-xmpMM',\n",
       "    'tagspaceid': 0,\n",
       "    'tag': 'InstanceID',\n",
       "    'label': 'Instance ID',\n",
       "    'raw': {'_content': 'xmp.iid:16ee75bf-3cf3-3445-8690-cfe72c2b32c4'}},\n",
       "   {'tagspace': 'XMP-xmpMM',\n",
       "    'tagspaceid': 0,\n",
       "    'tag': 'OriginalDocumentID',\n",
       "    'label': 'Original Document ID',\n",
       "    'raw': {'_content': '7768BA311BF0A19B057C70C400F51ABD'}},\n",
       "   {'tagspace': 'XMP-xmpRights',\n",
       "    'tagspaceid': 0,\n",
       "    'tag': 'WebStatement',\n",
       "    'label': 'Web Statement',\n",
       "    'raw': {'_content': 'http://stuvelfoto.nl/'}}]},\n",
       " 'stat': 'ok'}"
      ]
     },
     "execution_count": 166,
     "metadata": {},
     "output_type": "execute_result"
    }
   ],
   "source": [
    "parsed"
   ]
  },
  {
   "cell_type": "code",
   "execution_count": 167,
   "id": "c46448ee",
   "metadata": {},
   "outputs": [],
   "source": [
    "example1 = flickr.photos.getExif(api_key = api_key, photo_id=\"30014551651\", secret = api_secret)"
   ]
  },
  {
   "cell_type": "code",
   "execution_count": 170,
   "id": "46b3fa58",
   "metadata": {},
   "outputs": [
    {
     "ename": "TypeError",
     "evalue": "'lxml.etree._Attrib' object is not callable",
     "output_type": "error",
     "traceback": [
      "\u001b[0;31m---------------------------------------------------------------------------\u001b[0m",
      "\u001b[0;31mTypeError\u001b[0m                                 Traceback (most recent call last)",
      "Input \u001b[0;32mIn [170]\u001b[0m, in \u001b[0;36m<cell line: 1>\u001b[0;34m()\u001b[0m\n\u001b[0;32m----> 1\u001b[0m \u001b[43mexample1\u001b[49m\u001b[38;5;241;43m.\u001b[39;49m\u001b[43mattrib\u001b[49m\u001b[43m(\u001b[49m\u001b[38;5;124;43m'\u001b[39;49m\u001b[38;5;124;43mexif\u001b[39;49m\u001b[38;5;124;43m'\u001b[39;49m\u001b[43m)\u001b[49m\n",
      "\u001b[0;31mTypeError\u001b[0m: 'lxml.etree._Attrib' object is not callable"
     ]
    }
   ],
   "source": [
    "example1.attrib('exif')"
   ]
  },
  {
   "cell_type": "code",
   "execution_count": 171,
   "id": "5a107af2",
   "metadata": {},
   "outputs": [
    {
     "ename": "FlickrError",
     "evalue": "Error: 2: Photo has no location information.",
     "output_type": "error",
     "traceback": [
      "\u001b[0;31m---------------------------------------------------------------------------\u001b[0m",
      "\u001b[0;31mFlickrError\u001b[0m                               Traceback (most recent call last)",
      "Input \u001b[0;32mIn [171]\u001b[0m, in \u001b[0;36m<cell line: 1>\u001b[0;34m()\u001b[0m\n\u001b[0;32m----> 1\u001b[0m \u001b[43mflickr\u001b[49m\u001b[38;5;241;43m.\u001b[39;49m\u001b[43mphotos\u001b[49m\u001b[38;5;241;43m.\u001b[39;49m\u001b[43mgeo\u001b[49m\u001b[38;5;241;43m.\u001b[39;49m\u001b[43mgetLocation\u001b[49m\u001b[43m(\u001b[49m\u001b[43mapi_key\u001b[49m\u001b[43m \u001b[49m\u001b[38;5;241;43m=\u001b[39;49m\u001b[43m \u001b[49m\u001b[43mapi_key\u001b[49m\u001b[43m,\u001b[49m\u001b[43m \u001b[49m\u001b[43mphoto_id\u001b[49m\u001b[38;5;241;43m=\u001b[39;49m\u001b[38;5;124;43m\"\u001b[39;49m\u001b[38;5;124;43m30014551651\u001b[39;49m\u001b[38;5;124;43m\"\u001b[39;49m\u001b[43m)\u001b[49m\n",
      "File \u001b[0;32m~/opt/anaconda3/lib/python3.9/site-packages/flickrapi/call_builder.py:38\u001b[0m, in \u001b[0;36mCallBuilder.__call__\u001b[0;34m(self, **kwargs)\u001b[0m\n\u001b[1;32m     37\u001b[0m \u001b[38;5;28;01mdef\u001b[39;00m \u001b[38;5;21m__call__\u001b[39m(\u001b[38;5;28mself\u001b[39m, \u001b[38;5;241m*\u001b[39m\u001b[38;5;241m*\u001b[39mkwargs):\n\u001b[0;32m---> 38\u001b[0m     \u001b[38;5;28;01mreturn\u001b[39;00m \u001b[38;5;28;43mself\u001b[39;49m\u001b[38;5;241;43m.\u001b[39;49m\u001b[43mflickrapi_object\u001b[49m\u001b[38;5;241;43m.\u001b[39;49m\u001b[43mdo_flickr_call\u001b[49m\u001b[43m(\u001b[49m\u001b[38;5;28;43mself\u001b[39;49m\u001b[38;5;241;43m.\u001b[39;49m\u001b[43mmethod_name\u001b[49m\u001b[43m,\u001b[49m\u001b[43m \u001b[49m\u001b[38;5;241;43m*\u001b[39;49m\u001b[38;5;241;43m*\u001b[39;49m\u001b[43mkwargs\u001b[49m\u001b[43m)\u001b[49m\n",
      "File \u001b[0;32m~/opt/anaconda3/lib/python3.9/site-packages/flickrapi/core.py:334\u001b[0m, in \u001b[0;36mFlickrAPI.do_flickr_call\u001b[0;34m(self, _method_name, timeout, **kwargs)\u001b[0m\n\u001b[1;32m    330\u001b[0m params \u001b[38;5;241m=\u001b[39m \u001b[38;5;28mself\u001b[39m\u001b[38;5;241m.\u001b[39m_supply_defaults(params, defaults)\n\u001b[1;32m    332\u001b[0m LOG\u001b[38;5;241m.\u001b[39minfo(\u001b[38;5;124m'\u001b[39m\u001b[38;5;124mCalling \u001b[39m\u001b[38;5;132;01m%s\u001b[39;00m\u001b[38;5;124m'\u001b[39m, defaults)\n\u001b[0;32m--> 334\u001b[0m \u001b[38;5;28;01mreturn\u001b[39;00m \u001b[38;5;28;43mself\u001b[39;49m\u001b[38;5;241;43m.\u001b[39;49m\u001b[43m_wrap_in_parser\u001b[49m\u001b[43m(\u001b[49m\u001b[38;5;28;43mself\u001b[39;49m\u001b[38;5;241;43m.\u001b[39;49m\u001b[43m_flickr_call\u001b[49m\u001b[43m,\u001b[49m\n\u001b[1;32m    335\u001b[0m \u001b[43m                            \u001b[49m\u001b[43mparse_format\u001b[49m\u001b[38;5;241;43m=\u001b[39;49m\u001b[43mparams\u001b[49m\u001b[43m[\u001b[49m\u001b[38;5;124;43m'\u001b[39;49m\u001b[38;5;124;43mformat\u001b[39;49m\u001b[38;5;124;43m'\u001b[39;49m\u001b[43m]\u001b[49m\u001b[43m,\u001b[49m\n\u001b[1;32m    336\u001b[0m \u001b[43m                            \u001b[49m\u001b[43mtimeout\u001b[49m\u001b[38;5;241;43m=\u001b[39;49m\u001b[43mtimeout\u001b[49m\u001b[43m,\u001b[49m\n\u001b[1;32m    337\u001b[0m \u001b[43m                            \u001b[49m\u001b[38;5;241;43m*\u001b[39;49m\u001b[38;5;241;43m*\u001b[39;49m\u001b[43mparams\u001b[49m\u001b[43m)\u001b[49m\n",
      "File \u001b[0;32m~/opt/anaconda3/lib/python3.9/site-packages/flickrapi/core.py:407\u001b[0m, in \u001b[0;36mFlickrAPI._wrap_in_parser\u001b[0;34m(self, wrapped_method, parse_format, *args, **kwargs)\u001b[0m\n\u001b[1;32m    405\u001b[0m \u001b[38;5;66;03m# Return the parsed data\u001b[39;00m\n\u001b[1;32m    406\u001b[0m parser \u001b[38;5;241m=\u001b[39m rest_parsers[parse_format][\u001b[38;5;241m0\u001b[39m]\n\u001b[0;32m--> 407\u001b[0m \u001b[38;5;28;01mreturn\u001b[39;00m \u001b[43mparser\u001b[49m\u001b[43m(\u001b[49m\u001b[38;5;28;43mself\u001b[39;49m\u001b[43m,\u001b[49m\u001b[43m \u001b[49m\u001b[43mdata\u001b[49m\u001b[43m)\u001b[49m\n",
      "File \u001b[0;32m~/opt/anaconda3/lib/python3.9/site-packages/flickrapi/core.py:297\u001b[0m, in \u001b[0;36mFlickrAPI.parse_etree\u001b[0;34m(self, rest_xml)\u001b[0m\n\u001b[1;32m    295\u001b[0m err \u001b[38;5;241m=\u001b[39m rsp\u001b[38;5;241m.\u001b[39mfind(\u001b[38;5;124m'\u001b[39m\u001b[38;5;124merr\u001b[39m\u001b[38;5;124m'\u001b[39m)\n\u001b[1;32m    296\u001b[0m code \u001b[38;5;241m=\u001b[39m err\u001b[38;5;241m.\u001b[39mattrib\u001b[38;5;241m.\u001b[39mget(\u001b[38;5;124m'\u001b[39m\u001b[38;5;124mcode\u001b[39m\u001b[38;5;124m'\u001b[39m, \u001b[38;5;28;01mNone\u001b[39;00m)\n\u001b[0;32m--> 297\u001b[0m \u001b[38;5;28;01mraise\u001b[39;00m FlickrError(six\u001b[38;5;241m.\u001b[39mu(\u001b[38;5;124m'\u001b[39m\u001b[38;5;124mError: \u001b[39m\u001b[38;5;132;01m%(code)s\u001b[39;00m\u001b[38;5;124m: \u001b[39m\u001b[38;5;132;01m%(msg)s\u001b[39;00m\u001b[38;5;124m'\u001b[39m) \u001b[38;5;241m%\u001b[39m err\u001b[38;5;241m.\u001b[39mattrib, code\u001b[38;5;241m=\u001b[39mcode)\n",
      "\u001b[0;31mFlickrError\u001b[0m: Error: 2: Photo has no location information."
     ]
    }
   ],
   "source": [
    "flickr.photos.geo.getLocation(api_key = api_key, photo_id=\"30014551651\")"
   ]
  },
  {
   "cell_type": "code",
   "execution_count": 3,
   "id": "1973bc3c",
   "metadata": {},
   "outputs": [
    {
     "ename": "NameError",
     "evalue": "name 'flickr' is not defined",
     "output_type": "error",
     "traceback": [
      "\u001b[0;31m---------------------------------------------------------------------------\u001b[0m",
      "\u001b[0;31mNameError\u001b[0m                                 Traceback (most recent call last)",
      "Input \u001b[0;32mIn [3]\u001b[0m, in \u001b[0;36m<cell line: 1>\u001b[0;34m()\u001b[0m\n\u001b[0;32m----> 1\u001b[0m raw_json \u001b[38;5;241m=\u001b[39m \u001b[43mflickr\u001b[49m\u001b[38;5;241m.\u001b[39mphotos\u001b[38;5;241m.\u001b[39msearch(api_key\u001b[38;5;241m=\u001b[39m api_key,tags \u001b[38;5;241m=\u001b[39m \u001b[38;5;124m'\u001b[39m\u001b[38;5;124m서울\u001b[39m\u001b[38;5;124m'\u001b[39m, \u001b[38;5;28mformat\u001b[39m \u001b[38;5;241m=\u001b[39m \u001b[38;5;124m'\u001b[39m\u001b[38;5;124mparsed-json\u001b[39m\u001b[38;5;124m'\u001b[39m)\n",
      "\u001b[0;31mNameError\u001b[0m: name 'flickr' is not defined"
     ]
    }
   ],
   "source": [
    "raw_json = flickr.photos.search(api_key= api_key,tags = '서울', format = 'parsed-json')"
   ]
  },
  {
   "cell_type": "code",
   "execution_count": 193,
   "id": "1d679c65",
   "metadata": {},
   "outputs": [],
   "source": [
    "img1 = raw_json['photos']['photo'][2]['id']"
   ]
  },
  {
   "cell_type": "code",
   "execution_count": 36,
   "id": "e845217c",
   "metadata": {},
   "outputs": [
    {
     "ename": "FlickrError",
     "evalue": "Error: 2: Photo has no location information.",
     "output_type": "error",
     "traceback": [
      "\u001b[0;31m---------------------------------------------------------------------------\u001b[0m",
      "\u001b[0;31mFlickrError\u001b[0m                               Traceback (most recent call last)",
      "Input \u001b[0;32mIn [36]\u001b[0m, in \u001b[0;36m<cell line: 1>\u001b[0;34m()\u001b[0m\n\u001b[0;32m----> 1\u001b[0m \u001b[43mflickr\u001b[49m\u001b[38;5;241;43m.\u001b[39;49m\u001b[43mphotos\u001b[49m\u001b[38;5;241;43m.\u001b[39;49m\u001b[43mgeo\u001b[49m\u001b[38;5;241;43m.\u001b[39;49m\u001b[43mgetLocation\u001b[49m\u001b[43m(\u001b[49m\u001b[43mapi_key\u001b[49m\u001b[43m \u001b[49m\u001b[38;5;241;43m=\u001b[39;49m\u001b[43m \u001b[49m\u001b[43mapi_key\u001b[49m\u001b[43m,\u001b[49m\u001b[43m \u001b[49m\u001b[43mphoto_id\u001b[49m\u001b[38;5;241;43m=\u001b[39;49m\u001b[43mimg1\u001b[49m\u001b[43m)\u001b[49m\n",
      "File \u001b[0;32m~/opt/anaconda3/lib/python3.9/site-packages/flickrapi/call_builder.py:38\u001b[0m, in \u001b[0;36mCallBuilder.__call__\u001b[0;34m(self, **kwargs)\u001b[0m\n\u001b[1;32m     37\u001b[0m \u001b[38;5;28;01mdef\u001b[39;00m \u001b[38;5;21m__call__\u001b[39m(\u001b[38;5;28mself\u001b[39m, \u001b[38;5;241m*\u001b[39m\u001b[38;5;241m*\u001b[39mkwargs):\n\u001b[0;32m---> 38\u001b[0m     \u001b[38;5;28;01mreturn\u001b[39;00m \u001b[38;5;28;43mself\u001b[39;49m\u001b[38;5;241;43m.\u001b[39;49m\u001b[43mflickrapi_object\u001b[49m\u001b[38;5;241;43m.\u001b[39;49m\u001b[43mdo_flickr_call\u001b[49m\u001b[43m(\u001b[49m\u001b[38;5;28;43mself\u001b[39;49m\u001b[38;5;241;43m.\u001b[39;49m\u001b[43mmethod_name\u001b[49m\u001b[43m,\u001b[49m\u001b[43m \u001b[49m\u001b[38;5;241;43m*\u001b[39;49m\u001b[38;5;241;43m*\u001b[39;49m\u001b[43mkwargs\u001b[49m\u001b[43m)\u001b[49m\n",
      "File \u001b[0;32m~/opt/anaconda3/lib/python3.9/site-packages/flickrapi/core.py:334\u001b[0m, in \u001b[0;36mFlickrAPI.do_flickr_call\u001b[0;34m(self, _method_name, timeout, **kwargs)\u001b[0m\n\u001b[1;32m    330\u001b[0m params \u001b[38;5;241m=\u001b[39m \u001b[38;5;28mself\u001b[39m\u001b[38;5;241m.\u001b[39m_supply_defaults(params, defaults)\n\u001b[1;32m    332\u001b[0m LOG\u001b[38;5;241m.\u001b[39minfo(\u001b[38;5;124m'\u001b[39m\u001b[38;5;124mCalling \u001b[39m\u001b[38;5;132;01m%s\u001b[39;00m\u001b[38;5;124m'\u001b[39m, defaults)\n\u001b[0;32m--> 334\u001b[0m \u001b[38;5;28;01mreturn\u001b[39;00m \u001b[38;5;28;43mself\u001b[39;49m\u001b[38;5;241;43m.\u001b[39;49m\u001b[43m_wrap_in_parser\u001b[49m\u001b[43m(\u001b[49m\u001b[38;5;28;43mself\u001b[39;49m\u001b[38;5;241;43m.\u001b[39;49m\u001b[43m_flickr_call\u001b[49m\u001b[43m,\u001b[49m\n\u001b[1;32m    335\u001b[0m \u001b[43m                            \u001b[49m\u001b[43mparse_format\u001b[49m\u001b[38;5;241;43m=\u001b[39;49m\u001b[43mparams\u001b[49m\u001b[43m[\u001b[49m\u001b[38;5;124;43m'\u001b[39;49m\u001b[38;5;124;43mformat\u001b[39;49m\u001b[38;5;124;43m'\u001b[39;49m\u001b[43m]\u001b[49m\u001b[43m,\u001b[49m\n\u001b[1;32m    336\u001b[0m \u001b[43m                            \u001b[49m\u001b[43mtimeout\u001b[49m\u001b[38;5;241;43m=\u001b[39;49m\u001b[43mtimeout\u001b[49m\u001b[43m,\u001b[49m\n\u001b[1;32m    337\u001b[0m \u001b[43m                            \u001b[49m\u001b[38;5;241;43m*\u001b[39;49m\u001b[38;5;241;43m*\u001b[39;49m\u001b[43mparams\u001b[49m\u001b[43m)\u001b[49m\n",
      "File \u001b[0;32m~/opt/anaconda3/lib/python3.9/site-packages/flickrapi/core.py:407\u001b[0m, in \u001b[0;36mFlickrAPI._wrap_in_parser\u001b[0;34m(self, wrapped_method, parse_format, *args, **kwargs)\u001b[0m\n\u001b[1;32m    405\u001b[0m \u001b[38;5;66;03m# Return the parsed data\u001b[39;00m\n\u001b[1;32m    406\u001b[0m parser \u001b[38;5;241m=\u001b[39m rest_parsers[parse_format][\u001b[38;5;241m0\u001b[39m]\n\u001b[0;32m--> 407\u001b[0m \u001b[38;5;28;01mreturn\u001b[39;00m \u001b[43mparser\u001b[49m\u001b[43m(\u001b[49m\u001b[38;5;28;43mself\u001b[39;49m\u001b[43m,\u001b[49m\u001b[43m \u001b[49m\u001b[43mdata\u001b[49m\u001b[43m)\u001b[49m\n",
      "File \u001b[0;32m~/opt/anaconda3/lib/python3.9/site-packages/flickrapi/core.py:297\u001b[0m, in \u001b[0;36mFlickrAPI.parse_etree\u001b[0;34m(self, rest_xml)\u001b[0m\n\u001b[1;32m    295\u001b[0m err \u001b[38;5;241m=\u001b[39m rsp\u001b[38;5;241m.\u001b[39mfind(\u001b[38;5;124m'\u001b[39m\u001b[38;5;124merr\u001b[39m\u001b[38;5;124m'\u001b[39m)\n\u001b[1;32m    296\u001b[0m code \u001b[38;5;241m=\u001b[39m err\u001b[38;5;241m.\u001b[39mattrib\u001b[38;5;241m.\u001b[39mget(\u001b[38;5;124m'\u001b[39m\u001b[38;5;124mcode\u001b[39m\u001b[38;5;124m'\u001b[39m, \u001b[38;5;28;01mNone\u001b[39;00m)\n\u001b[0;32m--> 297\u001b[0m \u001b[38;5;28;01mraise\u001b[39;00m FlickrError(six\u001b[38;5;241m.\u001b[39mu(\u001b[38;5;124m'\u001b[39m\u001b[38;5;124mError: \u001b[39m\u001b[38;5;132;01m%(code)s\u001b[39;00m\u001b[38;5;124m: \u001b[39m\u001b[38;5;132;01m%(msg)s\u001b[39;00m\u001b[38;5;124m'\u001b[39m) \u001b[38;5;241m%\u001b[39m err\u001b[38;5;241m.\u001b[39mattrib, code\u001b[38;5;241m=\u001b[39mcode)\n",
      "\u001b[0;31mFlickrError\u001b[0m: Error: 2: Photo has no location information."
     ]
    }
   ],
   "source": [
    "flickr.photos.geo.getLocation(api_key = api_key, photo_id=img1)"
   ]
  },
  {
   "cell_type": "code",
   "execution_count": 34,
   "id": "e6b446c9",
   "metadata": {},
   "outputs": [
    {
     "name": "stdout",
     "output_type": "stream",
     "text": [
      "오류 20\n",
      "오류 21\n",
      "오류 22\n",
      "오류 23\n",
      "오류 24\n",
      "오류 25\n",
      "오류 26\n",
      "오류 27\n",
      "오류 28\n",
      "오류 29\n",
      "오류 30\n",
      "오류 31\n",
      "오류 32\n",
      "오류 33\n",
      "오류 34\n",
      "오류 35\n",
      "오류 36\n",
      "오류 37\n",
      "오류 38\n",
      "오류 39\n",
      "오류 40\n",
      "오류 41\n",
      "오류 42\n",
      "오류 43\n",
      "오류 44\n",
      "오류 45\n",
      "오류 46\n",
      "오류 47\n",
      "오류 48\n",
      "오류 49\n",
      "오류 50\n",
      "오류 51\n",
      "오류 52\n",
      "오류 53\n",
      "오류 54\n",
      "오류 55\n",
      "오류 56\n",
      "오류 57\n",
      "오류 58\n",
      "오류 59\n",
      "오류 60\n",
      "오류 61\n",
      "오류 62\n",
      "오류 63\n",
      "오류 64\n",
      "오류 65\n",
      "오류 66\n",
      "오류 67\n",
      "오류 68\n",
      "오류 69\n",
      "오류 70\n",
      "오류 71\n",
      "오류 72\n",
      "오류 73\n",
      "오류 74\n",
      "오류 75\n",
      "오류 76\n",
      "오류 77\n",
      "오류 78\n",
      "오류 79\n",
      "오류 80\n",
      "오류 81\n",
      "오류 82\n",
      "오류 83\n",
      "오류 84\n",
      "오류 85\n",
      "오류 86\n",
      "오류 87\n",
      "오류 88\n",
      "오류 89\n",
      "오류 90\n",
      "오류 91\n",
      "오류 92\n",
      "오류 93\n",
      "오류 94\n",
      "오류 95\n",
      "오류 96\n",
      "오류 97\n",
      "오류 98\n",
      "오류 99\n"
     ]
    }
   ],
   "source": [
    "# 키워드 서울을 기준으로 100개의 데이터를 가져와 geo.getLocation 메서드로\n",
    "# GPS 데이터를 가져올 수 있는지 확인.\n",
    "raw_json = flickr.photos.search(api_key= api_key,tags = '서울', format = 'parsed-json')\n",
    "for i in range(20,100) :\n",
    "    img1 = raw_json['photos']['photo'][i]['id']\n",
    "    try :\n",
    "        temp = flickr.photos.geo.getLocation(api_key = api_key, photo_id=img1)\n",
    "        print(temp)\n",
    "    except :\n",
    "        print(f'오류 {i}')"
   ]
  },
  {
   "cell_type": "code",
   "execution_count": 1,
   "id": "67c55407",
   "metadata": {},
   "outputs": [
    {
     "ename": "NameError",
     "evalue": "name 'flickr' is not defined",
     "output_type": "error",
     "traceback": [
      "\u001b[0;31m---------------------------------------------------------------------------\u001b[0m",
      "\u001b[0;31mNameError\u001b[0m                                 Traceback (most recent call last)",
      "Input \u001b[0;32mIn [1]\u001b[0m, in \u001b[0;36m<cell line: 1>\u001b[0;34m()\u001b[0m\n\u001b[0;32m----> 1\u001b[0m \u001b[43mflickr\u001b[49m\u001b[38;5;241m.\u001b[39mphotos\u001b[38;5;241m.\u001b[39mgeo\u001b[38;5;241m.\u001b[39mphotosForLocation(api_key\u001b[38;5;241m=\u001b[39m api_key, lat \u001b[38;5;241m=\u001b[39m \u001b[38;5;241m60\u001b[39m, latitude \u001b[38;5;241m=\u001b[39m \u001b[38;5;241m60\u001b[39m)\n",
      "\u001b[0;31mNameError\u001b[0m: name 'flickr' is not defined"
     ]
    }
   ],
   "source": [
    "flickr.photos.geo.photosForLocation(api_key= api_key, lat = 60, latitude = 60)"
   ]
  },
  {
   "cell_type": "code",
   "execution_count": null,
   "id": "949ee02e",
   "metadata": {},
   "outputs": [],
   "source": []
  }
 ],
 "metadata": {
  "kernelspec": {
   "display_name": "Python 3 (ipykernel)",
   "language": "python",
   "name": "python3"
  },
  "language_info": {
   "codemirror_mode": {
    "name": "ipython",
    "version": 3
   },
   "file_extension": ".py",
   "mimetype": "text/x-python",
   "name": "python",
   "nbconvert_exporter": "python",
   "pygments_lexer": "ipython3",
   "version": "3.9.12"
  }
 },
 "nbformat": 4,
 "nbformat_minor": 5
}
